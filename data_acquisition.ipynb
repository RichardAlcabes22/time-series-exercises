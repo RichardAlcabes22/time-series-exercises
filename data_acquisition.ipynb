{
 "cells": [
  {
   "cell_type": "code",
   "execution_count": 1,
   "id": "7541ce9f",
   "metadata": {},
   "outputs": [],
   "source": [
    "# requests allows us to interact with the web!\n",
    "import requests\n",
    "import numpy as np\n",
    "import pandas as pd\n",
    "import math"
   ]
  },
  {
   "cell_type": "code",
   "execution_count": 2,
   "id": "c846f916",
   "metadata": {},
   "outputs": [],
   "source": [
    "# # establish response\n",
    "# response = requests.get('http://swapi.dev/api/')"
   ]
  },
  {
   "cell_type": "code",
   "execution_count": 3,
   "id": "db9c6b8d",
   "metadata": {},
   "outputs": [],
   "source": [
    "# # homepage content:\n",
    "# # (remember .json() will output a dictionary...if its formatted as json)\n",
    "# home_content = response.json()\n",
    "# home_content"
   ]
  },
  {
   "cell_type": "code",
   "execution_count": 4,
   "id": "b4d992d4",
   "metadata": {},
   "outputs": [],
   "source": [
    "\n",
    "# # looking at people:\n",
    "# # so let's use that value in a new request\n",
    "# people = requests.get(home_content['people'])"
   ]
  },
  {
   "cell_type": "code",
   "execution_count": 5,
   "id": "08659f88",
   "metadata": {},
   "outputs": [],
   "source": [
    "# people.json()"
   ]
  },
  {
   "cell_type": "code",
   "execution_count": 6,
   "id": "3dd34700",
   "metadata": {},
   "outputs": [],
   "source": [
    "# # the list of dictionaries apply appropriately\n",
    "# first_people_page = people.json()\n",
    "# df = pd.DataFrame(first_people_page['results'])"
   ]
  },
  {
   "cell_type": "code",
   "execution_count": 7,
   "id": "5e873913",
   "metadata": {},
   "outputs": [],
   "source": [
    "# df"
   ]
  },
  {
   "cell_type": "markdown",
   "id": "fd17e42d",
   "metadata": {},
   "source": [
    "## Page 2"
   ]
  },
  {
   "cell_type": "code",
   "execution_count": 8,
   "id": "ea3c1784",
   "metadata": {},
   "outputs": [],
   "source": [
    "# response = requests.get('http://swapi.dev/api/people/?page=2')"
   ]
  },
  {
   "cell_type": "code",
   "execution_count": 9,
   "id": "56539bdc",
   "metadata": {},
   "outputs": [],
   "source": [
    "# response.json()"
   ]
  },
  {
   "cell_type": "code",
   "execution_count": 10,
   "id": "727be622",
   "metadata": {},
   "outputs": [],
   "source": [
    "# home_content = response.json()\n",
    "# # home_content"
   ]
  },
  {
   "cell_type": "code",
   "execution_count": 11,
   "id": "21d2ae05",
   "metadata": {},
   "outputs": [],
   "source": [
    "# # the list of dictionaries apply appropriately\n",
    "# second_people_page = home_content['results']"
   ]
  },
  {
   "cell_type": "code",
   "execution_count": 12,
   "id": "bbb7fa72",
   "metadata": {},
   "outputs": [],
   "source": [
    "# second_people_page"
   ]
  },
  {
   "cell_type": "code",
   "execution_count": 13,
   "id": "c0708d30",
   "metadata": {},
   "outputs": [],
   "source": [
    "# df = pd.concat([df,pd.DataFrame(second_people_page)])"
   ]
  },
  {
   "cell_type": "code",
   "execution_count": 14,
   "id": "e6f81ca9",
   "metadata": {
    "scrolled": true
   },
   "outputs": [],
   "source": [
    "# df.shape"
   ]
  },
  {
   "cell_type": "code",
   "execution_count": 15,
   "id": "71fee7d0",
   "metadata": {},
   "outputs": [],
   "source": [
    "# df"
   ]
  },
  {
   "cell_type": "markdown",
   "id": "47f540ef",
   "metadata": {},
   "source": [
    "## Page 3"
   ]
  },
  {
   "cell_type": "code",
   "execution_count": 16,
   "id": "231b3908",
   "metadata": {},
   "outputs": [],
   "source": [
    "# response = requests.get('http://swapi.dev/api/people/?page=3')\n",
    "# home_content = response.json()\n",
    "# people_page = home_content['results']\n",
    "# df = pd.concat([df,pd.DataFrame(people_page)])"
   ]
  },
  {
   "cell_type": "code",
   "execution_count": 17,
   "id": "519a10b1",
   "metadata": {},
   "outputs": [],
   "source": [
    "# df"
   ]
  },
  {
   "cell_type": "code",
   "execution_count": 18,
   "id": "55690c50",
   "metadata": {},
   "outputs": [],
   "source": [
    "# df.iloc[21:23,:]"
   ]
  },
  {
   "cell_type": "markdown",
   "id": "15776b78",
   "metadata": {},
   "source": [
    "## Page 4"
   ]
  },
  {
   "cell_type": "code",
   "execution_count": 19,
   "id": "fadc52bc",
   "metadata": {},
   "outputs": [],
   "source": [
    "# response = requests.get('http://swapi.dev/api/people/?page=4')\n",
    "# home_content = response.json()\n",
    "# people_page = home_content['results']\n",
    "# df = pd.concat([df,pd.DataFrame(people_page)])"
   ]
  },
  {
   "cell_type": "code",
   "execution_count": 20,
   "id": "e50dc95e",
   "metadata": {},
   "outputs": [],
   "source": [
    "# count = len(home_content['results'])\n",
    "# max_page = math.ceil(people.json()['count']/count )"
   ]
  },
  {
   "cell_type": "code",
   "execution_count": 21,
   "id": "b76c136d",
   "metadata": {},
   "outputs": [],
   "source": [
    "# max_page = math.ceil(people.json()['count']/count)"
   ]
  },
  {
   "cell_type": "code",
   "execution_count": null,
   "id": "492a3540",
   "metadata": {},
   "outputs": [],
   "source": []
  },
  {
   "cell_type": "code",
   "execution_count": null,
   "id": "cc67e385",
   "metadata": {},
   "outputs": [],
   "source": []
  },
  {
   "cell_type": "markdown",
   "id": "3af4a74e",
   "metadata": {},
   "source": [
    "## NOW for real..."
   ]
  },
  {
   "cell_type": "code",
   "execution_count": 22,
   "id": "c8098081",
   "metadata": {},
   "outputs": [
    {
     "data": {
      "text/plain": [
       "'https://swapi.dev/api/people/'"
      ]
     },
     "execution_count": 22,
     "metadata": {},
     "output_type": "execute_result"
    }
   ],
   "source": [
    "response = requests.get('http://swapi.dev/api/')\n",
    "home_content = response.json()\n",
    "home_content['people']"
   ]
  },
  {
   "cell_type": "code",
   "execution_count": 23,
   "id": "3af116ff",
   "metadata": {},
   "outputs": [],
   "source": [
    "first_people_payload = requests.get(home_content['people'])"
   ]
  },
  {
   "cell_type": "code",
   "execution_count": 24,
   "id": "2969368f",
   "metadata": {},
   "outputs": [],
   "source": [
    "# second_page_people = requests.get(first_people_payload.json()['next']).json()['results']"
   ]
  },
  {
   "cell_type": "code",
   "execution_count": 25,
   "id": "c2314f2f",
   "metadata": {},
   "outputs": [],
   "source": [
    "# i=9\n",
    "# requests.get(f'http://swapi.dev/api/people/?page={i}').json()"
   ]
  },
  {
   "cell_type": "code",
   "execution_count": null,
   "id": "b7ea0821",
   "metadata": {},
   "outputs": [],
   "source": []
  },
  {
   "cell_type": "code",
   "execution_count": null,
   "id": "20b796dc",
   "metadata": {},
   "outputs": [],
   "source": []
  },
  {
   "cell_type": "code",
   "execution_count": null,
   "id": "97f86d10",
   "metadata": {},
   "outputs": [],
   "source": []
  },
  {
   "cell_type": "code",
   "execution_count": 26,
   "id": "36d709c2",
   "metadata": {},
   "outputs": [],
   "source": [
    "# # for i in range (1,max_page)\n",
    "# # define df: pd.DataFrame(first_page_contents)\n",
    "# page_content = requests.get(f'http://swapi.dev/api/people/?page={i}').json()['results']\n",
    "# pd.concat([df,pd.DataFrame(page_content)],axis=0,ignore_index=True)"
   ]
  },
  {
   "cell_type": "code",
   "execution_count": null,
   "id": "4892eab2",
   "metadata": {},
   "outputs": [],
   "source": []
  },
  {
   "cell_type": "code",
   "execution_count": 27,
   "id": "f793f6c9",
   "metadata": {},
   "outputs": [
    {
     "data": {
      "text/plain": [
       "'https://swapi.dev/api/people/?page=2'"
      ]
     },
     "execution_count": 27,
     "metadata": {},
     "output_type": "execute_result"
    }
   ],
   "source": [
    "# while loop:\n",
    "data = requests.get(home_content['people']).json()\n",
    "first_page_people = data['results']\n",
    "people_df = pd.DataFrame(first_page_people)\n",
    "data['next']"
   ]
  },
  {
   "cell_type": "code",
   "execution_count": 28,
   "id": "90b46cd1",
   "metadata": {},
   "outputs": [
    {
     "name": "stdout",
     "output_type": "stream",
     "text": [
      "Next Page: https://swapi.dev/api/people/?page=2\n",
      "Next Page: https://swapi.dev/api/people/?page=3\n",
      "Next Page: https://swapi.dev/api/people/?page=4\n",
      "Next Page: https://swapi.dev/api/people/?page=5\n",
      "Next Page: https://swapi.dev/api/people/?page=6\n",
      "Next Page: https://swapi.dev/api/people/?page=7\n",
      "Next Page: https://swapi.dev/api/people/?page=8\n",
      "Next Page: https://swapi.dev/api/people/?page=9\n"
     ]
    }
   ],
   "source": [
    "while data['next'] != None:\n",
    "    print(f'Next Page: {data[\"next\"]}')\n",
    "    data = requests.get(data['next']).json()\n",
    "    page_data = data['results']\n",
    "    people_df = pd.concat([people_df,pd.DataFrame(page_data)],axis=0,ignore_index=True)"
   ]
  },
  {
   "cell_type": "code",
   "execution_count": 29,
   "id": "5e8c226f",
   "metadata": {},
   "outputs": [
    {
     "data": {
      "text/plain": [
       "(82, 16)"
      ]
     },
     "execution_count": 29,
     "metadata": {},
     "output_type": "execute_result"
    }
   ],
   "source": [
    "people_df.shape"
   ]
  },
  {
   "cell_type": "code",
   "execution_count": null,
   "id": "55300b33",
   "metadata": {},
   "outputs": [],
   "source": []
  },
  {
   "cell_type": "code",
   "execution_count": 30,
   "id": "c7abb699",
   "metadata": {},
   "outputs": [],
   "source": [
    "# pd.DataFrame(second_page_people)"
   ]
  },
  {
   "cell_type": "code",
   "execution_count": null,
   "id": "e0e0fa7e",
   "metadata": {},
   "outputs": [],
   "source": []
  },
  {
   "cell_type": "code",
   "execution_count": 31,
   "id": "778b67c5",
   "metadata": {},
   "outputs": [],
   "source": [
    "people_df.to_csv('people_data.csv')"
   ]
  },
  {
   "cell_type": "code",
   "execution_count": 32,
   "id": "fc55d146",
   "metadata": {},
   "outputs": [],
   "source": [
    "# home_content['planets']"
   ]
  },
  {
   "cell_type": "code",
   "execution_count": 33,
   "id": "c4a4f5f3",
   "metadata": {},
   "outputs": [],
   "source": [
    "# # combine\n",
    "# people_df.homeworld"
   ]
  },
  {
   "cell_type": "code",
   "execution_count": 34,
   "id": "4ccf4da2",
   "metadata": {},
   "outputs": [],
   "source": [
    "# first_merge = pd.merge(left=people_df,right=planets_df,how='left',left_on='homeworld',right_on='url',\n",
    "#         suffixes=['_people','_planet'])"
   ]
  },
  {
   "cell_type": "code",
   "execution_count": 35,
   "id": "a143d8f9",
   "metadata": {},
   "outputs": [],
   "source": [
    "# people_and_ships = pd.merge(left=people_df.explode('starships'),right=starships_df,\n",
    "#                             left_on='starships', right_on='url',how='left',suffixes=['_people','_starships']"
   ]
  },
  {
   "cell_type": "code",
   "execution_count": 36,
   "id": "3677d6cd",
   "metadata": {},
   "outputs": [],
   "source": [
    "opsd_df = pd.read_csv('https://raw.githubusercontent.com/jenfly/opsd/master/opsd_germany_daily.csv')"
   ]
  },
  {
   "cell_type": "code",
   "execution_count": 37,
   "id": "e61167f2",
   "metadata": {},
   "outputs": [],
   "source": [
    "opsd_df.to_csv('opsd_data.csv')"
   ]
  },
  {
   "cell_type": "code",
   "execution_count": null,
   "id": "4ef91965",
   "metadata": {},
   "outputs": [],
   "source": []
  },
  {
   "cell_type": "code",
   "execution_count": 38,
   "id": "4edcb2eb",
   "metadata": {},
   "outputs": [
    {
     "data": {
      "text/plain": [
       "'https://swapi.dev/api/planets/'"
      ]
     },
     "execution_count": 38,
     "metadata": {},
     "output_type": "execute_result"
    }
   ],
   "source": [
    "home_content['planets']"
   ]
  },
  {
   "cell_type": "code",
   "execution_count": 39,
   "id": "ce8dd8d9",
   "metadata": {},
   "outputs": [
    {
     "data": {
      "text/plain": [
       "'https://swapi.dev/api/planets/?page=2'"
      ]
     },
     "execution_count": 39,
     "metadata": {},
     "output_type": "execute_result"
    }
   ],
   "source": [
    "# while loop:\n",
    "data = requests.get(home_content['planets']).json()\n",
    "first_page_planets = data['results']\n",
    "planets_df = pd.DataFrame(first_page_planets)\n",
    "data['next']"
   ]
  },
  {
   "cell_type": "code",
   "execution_count": 40,
   "id": "5b134513",
   "metadata": {},
   "outputs": [
    {
     "name": "stdout",
     "output_type": "stream",
     "text": [
      "Next Page: https://swapi.dev/api/planets/?page=2\n",
      "Next Page: https://swapi.dev/api/planets/?page=3\n",
      "Next Page: https://swapi.dev/api/planets/?page=4\n",
      "Next Page: https://swapi.dev/api/planets/?page=5\n",
      "Next Page: https://swapi.dev/api/planets/?page=6\n"
     ]
    }
   ],
   "source": [
    "while data['next'] != None:\n",
    "    print(f'Next Page: {data[\"next\"]}')\n",
    "    data = requests.get(data['next']).json()\n",
    "    page_data = data['results']\n",
    "    planets_df = pd.concat([planets_df,pd.DataFrame(page_data)],axis=0,ignore_index=True)"
   ]
  },
  {
   "cell_type": "code",
   "execution_count": 41,
   "id": "59b63eec",
   "metadata": {},
   "outputs": [],
   "source": [
    "planets_df.to_csv('planets_data.csv')"
   ]
  },
  {
   "cell_type": "code",
   "execution_count": null,
   "id": "2a15e8ec",
   "metadata": {},
   "outputs": [],
   "source": []
  },
  {
   "cell_type": "code",
   "execution_count": 42,
   "id": "3932f2c2",
   "metadata": {},
   "outputs": [
    {
     "data": {
      "text/plain": [
       "'https://swapi.dev/api/starships/'"
      ]
     },
     "execution_count": 42,
     "metadata": {},
     "output_type": "execute_result"
    }
   ],
   "source": [
    "home_content['starships']"
   ]
  },
  {
   "cell_type": "code",
   "execution_count": 43,
   "id": "93867061",
   "metadata": {},
   "outputs": [
    {
     "data": {
      "text/plain": [
       "'https://swapi.dev/api/starships/?page=2'"
      ]
     },
     "execution_count": 43,
     "metadata": {},
     "output_type": "execute_result"
    }
   ],
   "source": [
    "# while loop:\n",
    "data = requests.get(home_content['starships']).json()\n",
    "first_page_starships = data['results']\n",
    "starships_df = pd.DataFrame(first_page_starships)\n",
    "data['next']"
   ]
  },
  {
   "cell_type": "code",
   "execution_count": 44,
   "id": "a8ffcbd9",
   "metadata": {},
   "outputs": [
    {
     "name": "stdout",
     "output_type": "stream",
     "text": [
      "Next Page: https://swapi.dev/api/starships/?page=2\n",
      "Next Page: https://swapi.dev/api/starships/?page=3\n",
      "Next Page: https://swapi.dev/api/starships/?page=4\n"
     ]
    }
   ],
   "source": [
    "while data['next'] != None:\n",
    "    print(f'Next Page: {data[\"next\"]}')\n",
    "    data = requests.get(data['next']).json()\n",
    "    page_data = data['results']\n",
    "    starships_df = pd.concat([starships_df,pd.DataFrame(page_data)],axis=0,ignore_index=True)"
   ]
  },
  {
   "cell_type": "code",
   "execution_count": 45,
   "id": "4858db5e",
   "metadata": {},
   "outputs": [],
   "source": [
    "starships_df.to_csv('starships_data.csv')"
   ]
  }
 ],
 "metadata": {
  "kernelspec": {
   "display_name": "Python 3 (ipykernel)",
   "language": "python",
   "name": "python3"
  },
  "language_info": {
   "codemirror_mode": {
    "name": "ipython",
    "version": 3
   },
   "file_extension": ".py",
   "mimetype": "text/x-python",
   "name": "python",
   "nbconvert_exporter": "python",
   "pygments_lexer": "ipython3",
   "version": "3.9.13"
  }
 },
 "nbformat": 4,
 "nbformat_minor": 5
}
