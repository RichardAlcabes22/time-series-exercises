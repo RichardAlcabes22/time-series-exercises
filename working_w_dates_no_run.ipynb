{
 "cells": [
  {
   "cell_type": "code",
   "execution_count": 1,
   "id": "b0527264",
   "metadata": {},
   "outputs": [],
   "source": [
    "import pandas as pd\n",
    "import matplotlib.pyplot as plt\n",
    "plt.rcParams['figure.figsize'] = (16,9)\n",
    "plt.rcParams['font.size'] = 20\n",
    "\n",
    "import warnings\n",
    "warnings.filterwarnings('ignore')"
   ]
  },
  {
   "cell_type": "code",
   "execution_count": 2,
   "id": "6998abd7",
   "metadata": {},
   "outputs": [],
   "source": [
    "date = 'Jan 1 1970'"
   ]
  },
  {
   "cell_type": "code",
   "execution_count": 3,
   "id": "04202c79",
   "metadata": {},
   "outputs": [
    {
     "data": {
      "text/plain": [
       "'Jan 1 1970'"
      ]
     },
     "execution_count": 3,
     "metadata": {},
     "output_type": "execute_result"
    }
   ],
   "source": [
    "date"
   ]
  },
  {
   "cell_type": "code",
   "execution_count": 5,
   "id": "bfa4377e",
   "metadata": {},
   "outputs": [
    {
     "data": {
      "text/plain": [
       "str"
      ]
     },
     "execution_count": 5,
     "metadata": {},
     "output_type": "execute_result"
    }
   ],
   "source": [
    "type(date)"
   ]
  },
  {
   "cell_type": "code",
   "execution_count": 6,
   "id": "b2b801ef",
   "metadata": {},
   "outputs": [
    {
     "data": {
      "text/plain": [
       "Timestamp('1970-01-01 00:00:00')"
      ]
     },
     "execution_count": 6,
     "metadata": {},
     "output_type": "execute_result"
    }
   ],
   "source": [
    "pd.to_datetime('Jan 1 1970')"
   ]
  },
  {
   "cell_type": "code",
   "execution_count": null,
   "id": "1e8cad37",
   "metadata": {},
   "outputs": [],
   "source": []
  },
  {
   "cell_type": "code",
   "execution_count": 7,
   "id": "de2ba366",
   "metadata": {},
   "outputs": [
    {
     "name": "stdout",
     "output_type": "stream",
     "text": [
      "ValueError Unknown string format: Jan:1:1970\n"
     ]
    }
   ],
   "source": [
    "try:\n",
    "    pd.to_datetime('Jan:1:1970')\n",
    "except ValueError as e:\n",
    "    print('ValueError', e)"
   ]
  },
  {
   "cell_type": "code",
   "execution_count": 11,
   "id": "47066289",
   "metadata": {},
   "outputs": [
    {
     "data": {
      "text/plain": [
       "Timestamp('1970-01-01 00:00:00')"
      ]
     },
     "execution_count": 11,
     "metadata": {},
     "output_type": "execute_result"
    }
   ],
   "source": [
    "pd.to_datetime('Jan:1:1970',format='%b:%d:%Y')"
   ]
  },
  {
   "cell_type": "code",
   "execution_count": null,
   "id": "4f2a679f",
   "metadata": {},
   "outputs": [],
   "source": []
  },
  {
   "cell_type": "code",
   "execution_count": null,
   "id": "dd705c30",
   "metadata": {},
   "outputs": [],
   "source": [
    "# df.date.dt.year"
   ]
  },
  {
   "cell_type": "code",
   "execution_count": null,
   "id": "472494ab",
   "metadata": {},
   "outputs": [],
   "source": [
    "# df['month'] = df.date.dt.month\n",
    "# df['day'] = df.date.dt.day\n",
    "# df['year'] = df.date.dt.year\n",
    "# df['weekday'] = df.date.dt.day_week"
   ]
  },
  {
   "cell_type": "code",
   "execution_count": null,
   "id": "83ebca12",
   "metadata": {},
   "outputs": [],
   "source": []
  },
  {
   "cell_type": "code",
   "execution_count": null,
   "id": "875925cc",
   "metadata": {},
   "outputs": [],
   "source": [
    "# pd.to_datetime('2020-03-13 12-PM', format='%Y%m%d%I%p')"
   ]
  },
  {
   "cell_type": "code",
   "execution_count": null,
   "id": "81fac89d",
   "metadata": {},
   "outputs": [],
   "source": [
    "### SET INDEX to the Datetime series and then you do not need to invoke .dt. any further because IT IS \n",
    "# THE INDEX!"
   ]
  },
  {
   "cell_type": "code",
   "execution_count": null,
   "id": "8a11e2c6",
   "metadata": {},
   "outputs": [],
   "source": [
    "# df =  df.set_index('date').sort_index()"
   ]
  },
  {
   "cell_type": "code",
   "execution_count": null,
   "id": "c8383934",
   "metadata": {},
   "outputs": [],
   "source": []
  },
  {
   "cell_type": "code",
   "execution_count": null,
   "id": "911e9a9d",
   "metadata": {},
   "outputs": [],
   "source": [
    "df.index.day_name()\n",
    "df['weekday_name'] = df.index.day_name()"
   ]
  },
  {
   "cell_type": "code",
   "execution_count": null,
   "id": "46befb99",
   "metadata": {},
   "outputs": [],
   "source": [
    "df.groupby('weekday_name').mean()"
   ]
  },
  {
   "cell_type": "code",
   "execution_count": null,
   "id": "74bd103f",
   "metadata": {},
   "outputs": [],
   "source": [
    "df.groupby('weekday_name').mean().close.plot()"
   ]
  },
  {
   "cell_type": "code",
   "execution_count": null,
   "id": "c321bfd1",
   "metadata": {},
   "outputs": [],
   "source": [
    "df.groupby('weekday_name').mean().volume.plot()"
   ]
  },
  {
   "cell_type": "code",
   "execution_count": null,
   "id": "e4a0a53b",
   "metadata": {},
   "outputs": [],
   "source": [
    "df['weekday_number'] = df.index.day_of_week"
   ]
  },
  {
   "cell_type": "code",
   "execution_count": null,
   "id": "911dbe8f",
   "metadata": {},
   "outputs": [],
   "source": [
    "df.groupby('weekday_name').mean().sort_values('weekday_number')"
   ]
  },
  {
   "cell_type": "code",
   "execution_count": null,
   "id": "b7a8e18c",
   "metadata": {},
   "outputs": [],
   "source": []
  },
  {
   "cell_type": "code",
   "execution_count": null,
   "id": "587b376e",
   "metadata": {},
   "outputs": [],
   "source": [
    "df.drop(columns=['weekday_name','weekday_number'],inplace=True)"
   ]
  },
  {
   "cell_type": "code",
   "execution_count": null,
   "id": "4bdc48a3",
   "metadata": {},
   "outputs": [],
   "source": [
    "by_month = df.asfreq('M')\n",
    "by_month.head()"
   ]
  },
  {
   "cell_type": "code",
   "execution_count": null,
   "id": "67f49e0d",
   "metadata": {},
   "outputs": [],
   "source": []
  },
  {
   "cell_type": "code",
   "execution_count": null,
   "id": "82894e9e",
   "metadata": {},
   "outputs": [],
   "source": [
    "by_month_first_day = df.asfreq('MS')"
   ]
  },
  {
   "cell_type": "code",
   "execution_count": null,
   "id": "10517fe4",
   "metadata": {},
   "outputs": [],
   "source": [
    "by_half-hour = df.asfreq('30T',method='ffill')"
   ]
  },
  {
   "cell_type": "code",
   "execution_count": null,
   "id": "0f658db5",
   "metadata": {},
   "outputs": [],
   "source": [
    "by_half_hour.assign(ffill=lambda df: df.volume.ffill(),bfill=lambda df:df.volume.bfill()).head()"
   ]
  },
  {
   "cell_type": "markdown",
   "id": "9a46b57b",
   "metadata": {},
   "source": [
    "# RESAMPLING"
   ]
  },
  {
   "cell_type": "code",
   "execution_count": null,
   "id": "01b9bbd2",
   "metadata": {},
   "outputs": [],
   "source": []
  },
  {
   "cell_type": "code",
   "execution_count": null,
   "id": "9f5b54ed",
   "metadata": {},
   "outputs": [],
   "source": [
    "daily_df = df.resample('D')"
   ]
  },
  {
   "cell_type": "code",
   "execution_count": null,
   "id": "9b095213",
   "metadata": {},
   "outputs": [],
   "source": [
    "daily_df.close.plot(label='Daily')\n",
    "df.resample('W').mean().close.plot(label='Weekly')\n",
    "df.resample('M').mean().close.plot(label='Monthly')\n",
    "# df.resample('Y').mean().close.plot(label='Yearly')"
   ]
  },
  {
   "cell_type": "markdown",
   "id": "86f8cd5b",
   "metadata": {},
   "source": [
    "# ROLLING"
   ]
  },
  {
   "cell_type": "code",
   "execution_count": null,
   "id": "6e28d7db",
   "metadata": {},
   "outputs": [],
   "source": [
    "daily_df.rolling(5).mean(10)"
   ]
  },
  {
   "cell_type": "code",
   "execution_count": null,
   "id": "676e3d56",
   "metadata": {},
   "outputs": [],
   "source": [
    "df.close.plot(label='Original')\n",
    "df.resample('W').mean().close.rolling(4).mean().plot(label='4 Week')\n",
    "df.resample('W').mean().close.rolling(12).mean().plot(label='12 Week')"
   ]
  },
  {
   "cell_type": "code",
   "execution_count": null,
   "id": "733e08a4",
   "metadata": {},
   "outputs": [],
   "source": [
    "daily_df"
   ]
  },
  {
   "cell_type": "code",
   "execution_count": null,
   "id": "2ed966f8",
   "metadata": {},
   "outputs": [],
   "source": []
  },
  {
   "cell_type": "markdown",
   "id": "33fdb3ff",
   "metadata": {},
   "source": [
    "# LAGGING / LEADING DATA"
   ]
  },
  {
   "cell_type": "code",
   "execution_count": null,
   "id": "57b64a92",
   "metadata": {},
   "outputs": [],
   "source": [
    "daily_df = dail_df[['volume','close']] #just re-arrange cols"
   ]
  },
  {
   "cell_type": "code",
   "execution_count": null,
   "id": "7a486c98",
   "metadata": {},
   "outputs": [],
   "source": [
    "daily_df['shift_by_one'] = daily_df.close.shift(1)"
   ]
  },
  {
   "cell_type": "code",
   "execution_count": null,
   "id": "b8180188",
   "metadata": {},
   "outputs": [],
   "source": [
    "daily_df['diff(1)'] = daily_df.close.diff(1)\n",
    "daily_df['other_diff'] = daily_df.close - daily_df['shift_by_one']"
   ]
  },
  {
   "cell_type": "code",
   "execution_count": null,
   "id": "153fd17e",
   "metadata": {},
   "outputs": [],
   "source": []
  },
  {
   "cell_type": "markdown",
   "id": "9d049beb",
   "metadata": {},
   "source": [
    "# CALC ROI"
   ]
  },
  {
   "cell_type": "code",
   "execution_count": null,
   "id": "073814a5",
   "metadata": {},
   "outputs": [],
   "source": [
    "Yearly Rate Return = (today - yest) / yest"
   ]
  },
  {
   "cell_type": "code",
   "execution_count": null,
   "id": "ac34dd7c",
   "metadata": {},
   "outputs": [],
   "source": []
  },
  {
   "cell_type": "markdown",
   "id": "f7fae544",
   "metadata": {},
   "source": [
    "# TIME ZONES"
   ]
  },
  {
   "cell_type": "code",
   "execution_count": null,
   "id": "87222955",
   "metadata": {},
   "outputs": [],
   "source": [
    "t = pd.Timestamp('2020-04-14 10:25:25')"
   ]
  },
  {
   "cell_type": "code",
   "execution_count": null,
   "id": "190f94c7",
   "metadata": {},
   "outputs": [],
   "source": [
    "t1 =pd.Timestamp('2020-04-14 10:25:25',tz='US/Central')"
   ]
  },
  {
   "cell_type": "code",
   "execution_count": null,
   "id": "38a761cf",
   "metadata": {},
   "outputs": [],
   "source": [
    "t1.tz_convert(tz='Asia/Tokyo')"
   ]
  },
  {
   "cell_type": "code",
   "execution_count": null,
   "id": "92bd4c4c",
   "metadata": {},
   "outputs": [],
   "source": []
  },
  {
   "cell_type": "markdown",
   "id": "55811f6f",
   "metadata": {},
   "source": [
    "# Time Delta"
   ]
  },
  {
   "cell_type": "code",
   "execution_count": null,
   "id": "fa306f3b",
   "metadata": {},
   "outputs": [],
   "source": [
    "t + pd.Timedelta('1d')"
   ]
  },
  {
   "cell_type": "code",
   "execution_count": null,
   "id": "cd9e1205",
   "metadata": {},
   "outputs": [],
   "source": [
    "now = pd.Timestamp.now()"
   ]
  },
  {
   "cell_type": "code",
   "execution_count": null,
   "id": "bb205a23",
   "metadata": {},
   "outputs": [],
   "source": []
  },
  {
   "cell_type": "code",
   "execution_count": null,
   "id": "1dfee051",
   "metadata": {},
   "outputs": [],
   "source": []
  }
 ],
 "metadata": {
  "kernelspec": {
   "display_name": "Python 3 (ipykernel)",
   "language": "python",
   "name": "python3"
  },
  "language_info": {
   "codemirror_mode": {
    "name": "ipython",
    "version": 3
   },
   "file_extension": ".py",
   "mimetype": "text/x-python",
   "name": "python",
   "nbconvert_exporter": "python",
   "pygments_lexer": "ipython3",
   "version": "3.9.13"
  }
 },
 "nbformat": 4,
 "nbformat_minor": 5
}
